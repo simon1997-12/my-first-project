{
 "cells": [
  {
   "cell_type": "markdown",
   "id": "b0e12e89",
   "metadata": {
    "execution": {
     "iopub.execute_input": "2024-12-24T13:25:33.191982Z",
     "iopub.status.busy": "2024-12-24T13:25:33.190897Z",
     "iopub.status.idle": "2024-12-24T13:25:33.200964Z",
     "shell.execute_reply": "2024-12-24T13:25:33.198928Z",
     "shell.execute_reply.started": "2024-12-24T13:25:33.191928Z"
    },
    "papermill": {
     "duration": 0.007418,
     "end_time": "2024-12-24T17:42:52.401185",
     "exception": false,
     "start_time": "2024-12-24T17:42:52.393767",
     "status": "completed"
    },
    "tags": []
   },
   "source": [
    "\n",
    "**Tzuf Feldon - 314954801**\n",
    "**Yahav Simon - 209339613**\n",
    "\n",
    "https://www.kaggle.com/yahavsimon\n",
    "\n",
    "**In this notebook, we will explore the Titanic dataset, perform data preprocessing, train a Logistic Regression model, and evaluate its performance. The goal is to accurately classify passengers as survived or not.**\n"
   ]
  },
  {
   "cell_type": "code",
   "execution_count": 1,
   "id": "2e0decd9",
   "metadata": {
    "_cell_guid": "b1076dfc-b9ad-4769-8c92-a6c4dae69d19",
    "_uuid": "8f2839f25d086af736a60e9eeb907d3b93b6e0e5",
    "execution": {
     "iopub.execute_input": "2024-12-24T17:42:52.416470Z",
     "iopub.status.busy": "2024-12-24T17:42:52.416084Z",
     "iopub.status.idle": "2024-12-24T17:42:55.859573Z",
     "shell.execute_reply": "2024-12-24T17:42:55.858495Z"
    },
    "papermill": {
     "duration": 3.453959,
     "end_time": "2024-12-24T17:42:55.862131",
     "exception": false,
     "start_time": "2024-12-24T17:42:52.408172",
     "status": "completed"
    },
    "tags": []
   },
   "outputs": [],
   "source": [
    "import numpy as np \n",
    "import pandas as pd \n",
    "import matplotlib.pyplot as plt\n",
    "import seaborn as sns\n",
    "import plotly.express as px\n",
    "\n",
    "from sklearn import model_selection\n",
    "from sklearn import linear_model\n",
    "from sklearn import metrics\n",
    "from sklearn.model_selection import train_test_split\n",
    "\n",
    "from sklearn import pipeline\n",
    "from sklearn.preprocessing import StandardScaler\n",
    "from sklearn.linear_model import SGDClassifier, LogisticRegression\n",
    "from sklearn import neural_network\n",
    "from sklearn.metrics import accuracy_score, confusion_matrix, classification_report\n",
    "\n",
    "\n",
    "import warnings\n",
    "warnings.filterwarnings('ignore')"
   ]
  },
  {
   "cell_type": "markdown",
   "id": "db7a7b7f",
   "metadata": {
    "papermill": {
     "duration": 0.006581,
     "end_time": "2024-12-24T17:42:55.876998",
     "exception": false,
     "start_time": "2024-12-24T17:42:55.870417",
     "status": "completed"
    },
    "tags": []
   },
   "source": [
    "**We load the training and test datasets provided for the Titanic challenge.**"
   ]
  },
  {
   "cell_type": "code",
   "execution_count": 2,
   "id": "3f2d9297",
   "metadata": {
    "execution": {
     "iopub.execute_input": "2024-12-24T17:42:55.893918Z",
     "iopub.status.busy": "2024-12-24T17:42:55.892988Z",
     "iopub.status.idle": "2024-12-24T17:42:55.929834Z",
     "shell.execute_reply": "2024-12-24T17:42:55.928682Z"
    },
    "papermill": {
     "duration": 0.047718,
     "end_time": "2024-12-24T17:42:55.932177",
     "exception": false,
     "start_time": "2024-12-24T17:42:55.884459",
     "status": "completed"
    },
    "tags": []
   },
   "outputs": [],
   "source": [
    "original_train = pd.read_csv(\"/kaggle/input/titanic7/train.csv\")\n",
    "\n",
    "test = pd.read_csv(\"/kaggle/input/titanic7/test.csv\")"
   ]
  },
  {
   "cell_type": "markdown",
   "id": "dd1048db",
   "metadata": {
    "papermill": {
     "duration": 0.006486,
     "end_time": "2024-12-24T17:42:55.945670",
     "exception": false,
     "start_time": "2024-12-24T17:42:55.939184",
     "status": "completed"
    },
    "tags": []
   },
   "source": [
    "**We analyze the dataset to understand its structure and feature distributions.**"
   ]
  },
  {
   "cell_type": "code",
   "execution_count": 3,
   "id": "e5bc834b",
   "metadata": {
    "execution": {
     "iopub.execute_input": "2024-12-24T17:42:55.961258Z",
     "iopub.status.busy": "2024-12-24T17:42:55.960465Z",
     "iopub.status.idle": "2024-12-24T17:42:55.967624Z",
     "shell.execute_reply": "2024-12-24T17:42:55.966643Z"
    },
    "papermill": {
     "duration": 0.01736,
     "end_time": "2024-12-24T17:42:55.969869",
     "exception": false,
     "start_time": "2024-12-24T17:42:55.952509",
     "status": "completed"
    },
    "tags": []
   },
   "outputs": [
    {
     "data": {
      "text/plain": [
       "(891, 12)"
      ]
     },
     "execution_count": 3,
     "metadata": {},
     "output_type": "execute_result"
    }
   ],
   "source": [
    "original_train.shape"
   ]
  },
  {
   "cell_type": "code",
   "execution_count": 4,
   "id": "7a700876",
   "metadata": {
    "execution": {
     "iopub.execute_input": "2024-12-24T17:42:55.985704Z",
     "iopub.status.busy": "2024-12-24T17:42:55.984784Z",
     "iopub.status.idle": "2024-12-24T17:42:56.009518Z",
     "shell.execute_reply": "2024-12-24T17:42:56.008527Z"
    },
    "papermill": {
     "duration": 0.034927,
     "end_time": "2024-12-24T17:42:56.011744",
     "exception": false,
     "start_time": "2024-12-24T17:42:55.976817",
     "status": "completed"
    },
    "tags": []
   },
   "outputs": [
    {
     "data": {
      "text/html": [
       "<div>\n",
       "<style scoped>\n",
       "    .dataframe tbody tr th:only-of-type {\n",
       "        vertical-align: middle;\n",
       "    }\n",
       "\n",
       "    .dataframe tbody tr th {\n",
       "        vertical-align: top;\n",
       "    }\n",
       "\n",
       "    .dataframe thead th {\n",
       "        text-align: right;\n",
       "    }\n",
       "</style>\n",
       "<table border=\"1\" class=\"dataframe\">\n",
       "  <thead>\n",
       "    <tr style=\"text-align: right;\">\n",
       "      <th></th>\n",
       "      <th>PassengerId</th>\n",
       "      <th>Survived</th>\n",
       "      <th>Pclass</th>\n",
       "      <th>Name</th>\n",
       "      <th>Sex</th>\n",
       "      <th>Age</th>\n",
       "      <th>SibSp</th>\n",
       "      <th>Parch</th>\n",
       "      <th>Ticket</th>\n",
       "      <th>Fare</th>\n",
       "      <th>Cabin</th>\n",
       "      <th>Embarked</th>\n",
       "    </tr>\n",
       "  </thead>\n",
       "  <tbody>\n",
       "    <tr>\n",
       "      <th>0</th>\n",
       "      <td>1</td>\n",
       "      <td>0</td>\n",
       "      <td>3</td>\n",
       "      <td>Braund, Mr. Owen Harris</td>\n",
       "      <td>male</td>\n",
       "      <td>22.0</td>\n",
       "      <td>1</td>\n",
       "      <td>0</td>\n",
       "      <td>A/5 21171</td>\n",
       "      <td>7.2500</td>\n",
       "      <td>NaN</td>\n",
       "      <td>S</td>\n",
       "    </tr>\n",
       "    <tr>\n",
       "      <th>1</th>\n",
       "      <td>2</td>\n",
       "      <td>1</td>\n",
       "      <td>1</td>\n",
       "      <td>Cumings, Mrs. John Bradley (Florence Briggs Th...</td>\n",
       "      <td>female</td>\n",
       "      <td>38.0</td>\n",
       "      <td>1</td>\n",
       "      <td>0</td>\n",
       "      <td>PC 17599</td>\n",
       "      <td>71.2833</td>\n",
       "      <td>C85</td>\n",
       "      <td>C</td>\n",
       "    </tr>\n",
       "    <tr>\n",
       "      <th>2</th>\n",
       "      <td>3</td>\n",
       "      <td>1</td>\n",
       "      <td>3</td>\n",
       "      <td>Heikkinen, Miss. Laina</td>\n",
       "      <td>female</td>\n",
       "      <td>26.0</td>\n",
       "      <td>0</td>\n",
       "      <td>0</td>\n",
       "      <td>STON/O2. 3101282</td>\n",
       "      <td>7.9250</td>\n",
       "      <td>NaN</td>\n",
       "      <td>S</td>\n",
       "    </tr>\n",
       "    <tr>\n",
       "      <th>3</th>\n",
       "      <td>4</td>\n",
       "      <td>1</td>\n",
       "      <td>1</td>\n",
       "      <td>Futrelle, Mrs. Jacques Heath (Lily May Peel)</td>\n",
       "      <td>female</td>\n",
       "      <td>35.0</td>\n",
       "      <td>1</td>\n",
       "      <td>0</td>\n",
       "      <td>113803</td>\n",
       "      <td>53.1000</td>\n",
       "      <td>C123</td>\n",
       "      <td>S</td>\n",
       "    </tr>\n",
       "    <tr>\n",
       "      <th>4</th>\n",
       "      <td>5</td>\n",
       "      <td>0</td>\n",
       "      <td>3</td>\n",
       "      <td>Allen, Mr. William Henry</td>\n",
       "      <td>male</td>\n",
       "      <td>35.0</td>\n",
       "      <td>0</td>\n",
       "      <td>0</td>\n",
       "      <td>373450</td>\n",
       "      <td>8.0500</td>\n",
       "      <td>NaN</td>\n",
       "      <td>S</td>\n",
       "    </tr>\n",
       "  </tbody>\n",
       "</table>\n",
       "</div>"
      ],
      "text/plain": [
       "   PassengerId  Survived  Pclass  \\\n",
       "0            1         0       3   \n",
       "1            2         1       1   \n",
       "2            3         1       3   \n",
       "3            4         1       1   \n",
       "4            5         0       3   \n",
       "\n",
       "                                                Name     Sex   Age  SibSp  \\\n",
       "0                            Braund, Mr. Owen Harris    male  22.0      1   \n",
       "1  Cumings, Mrs. John Bradley (Florence Briggs Th...  female  38.0      1   \n",
       "2                             Heikkinen, Miss. Laina  female  26.0      0   \n",
       "3       Futrelle, Mrs. Jacques Heath (Lily May Peel)  female  35.0      1   \n",
       "4                           Allen, Mr. William Henry    male  35.0      0   \n",
       "\n",
       "   Parch            Ticket     Fare Cabin Embarked  \n",
       "0      0         A/5 21171   7.2500   NaN        S  \n",
       "1      0          PC 17599  71.2833   C85        C  \n",
       "2      0  STON/O2. 3101282   7.9250   NaN        S  \n",
       "3      0            113803  53.1000  C123        S  \n",
       "4      0            373450   8.0500   NaN        S  "
      ]
     },
     "execution_count": 4,
     "metadata": {},
     "output_type": "execute_result"
    }
   ],
   "source": [
    "original_train.head()"
   ]
  },
  {
   "cell_type": "markdown",
   "id": "dceadd6d",
   "metadata": {
    "papermill": {
     "duration": 0.007068,
     "end_time": "2024-12-24T17:42:56.026366",
     "exception": false,
     "start_time": "2024-12-24T17:42:56.019298",
     "status": "completed"
    },
    "tags": []
   },
   "source": [
    "**Here we analyze the key features of the dataset and their impact on survival.**"
   ]
  },
  {
   "cell_type": "code",
   "execution_count": 5,
   "id": "0bcb8e8c",
   "metadata": {
    "execution": {
     "iopub.execute_input": "2024-12-24T17:42:56.042217Z",
     "iopub.status.busy": "2024-12-24T17:42:56.041825Z",
     "iopub.status.idle": "2024-12-24T17:42:56.529370Z",
     "shell.execute_reply": "2024-12-24T17:42:56.528217Z"
    },
    "papermill": {
     "duration": 0.498048,
     "end_time": "2024-12-24T17:42:56.531614",
     "exception": false,
     "start_time": "2024-12-24T17:42:56.033566",
     "status": "completed"
    },
    "tags": []
   },
   "outputs": [
    {
     "data": {
      "image/png": "[encoded data removed]",
      "text/plain": [
       "<Figure size 640x480 with 1 Axes>"
      ]
     },
     "metadata": {},
     "output_type": "display_data"
    },
    {
     "data": {
      "image/png": "[encoded data removed]",
      "text/plain": [
       "<Figure size 640x480 with 1 Axes>"
      ]
     },
     "metadata": {},
     "output_type": "display_data"
    }
   ],
   "source": [
    "\n",
    "sns.countplot(x='Survived', hue='Sex', data=original_train)\n",
    "plt.title('Survival by Gender')\n",
    "plt.show()\n",
    "\n",
    "sns.countplot(x='Survived', hue='Pclass', data=original_train)\n",
    "plt.title('Survival by Passenger Class')\n",
    "plt.show()\n"
   ]
  },
  {
   "cell_type": "markdown",
   "id": "c1d436d4",
   "metadata": {
    "papermill": {
     "duration": 0.008108,
     "end_time": "2024-12-24T17:42:56.548306",
     "exception": false,
     "start_time": "2024-12-24T17:42:56.540198",
     "status": "completed"
    },
    "tags": []
   },
   "source": [
    "## Our Predictions\n",
    "Based on initial observations, we predict the following trends in survival:\n",
    "\n",
    "- **Sex**: Females are more likely to survive.\n",
    "- **SibSp/Parch**: People traveling alone are more likely to survive.\n",
    "- **Age**: Young children are more likely to survive.\n",
    "- **Pclass**: People of higher socioeconomic class are more likely to survive.\n",
    "vive."
   ]
  },
  {
   "cell_type": "markdown",
   "id": "4e097b85",
   "metadata": {
    "papermill": {
     "duration": 0.007544,
     "end_time": "2024-12-24T17:42:56.563751",
     "exception": false,
     "start_time": "2024-12-24T17:42:56.556207",
     "status": "completed"
    },
    "tags": []
   },
   "source": [
    "**Creating a column indicating whether a cabin is assigned or not**"
   ]
  },
  {
   "cell_type": "code",
   "execution_count": 6,
   "id": "4c941357",
   "metadata": {
    "execution": {
     "iopub.execute_input": "2024-12-24T17:42:56.581007Z",
     "iopub.status.busy": "2024-12-24T17:42:56.580609Z",
     "iopub.status.idle": "2024-12-24T17:42:56.587891Z",
     "shell.execute_reply": "2024-12-24T17:42:56.586814Z"
    },
    "papermill": {
     "duration": 0.018406,
     "end_time": "2024-12-24T17:42:56.589927",
     "exception": false,
     "start_time": "2024-12-24T17:42:56.571521",
     "status": "completed"
    },
    "tags": []
   },
   "outputs": [],
   "source": [
    "original_train['Has_Cabin'] = original_train['Cabin'].notnull().astype(int)\n",
    "test['Has_Cabin'] = test['Cabin'].notnull().astype(int)\n"
   ]
  },
  {
   "cell_type": "markdown",
   "id": "302fc78e",
   "metadata": {
    "papermill": {
     "duration": 0.007518,
     "end_time": "2024-12-24T17:42:56.605416",
     "exception": false,
     "start_time": "2024-12-24T17:42:56.597898",
     "status": "completed"
    },
    "tags": []
   },
   "source": [
    "**Removing Irrelevant Columns: PassengerId, Name, and Ticket**"
   ]
  },
  {
   "cell_type": "code",
   "execution_count": 7,
   "id": "ce2155fb",
   "metadata": {
    "execution": {
     "iopub.execute_input": "2024-12-24T17:42:56.623102Z",
     "iopub.status.busy": "2024-12-24T17:42:56.622193Z",
     "iopub.status.idle": "2024-12-24T17:42:56.632745Z",
     "shell.execute_reply": "2024-12-24T17:42:56.631563Z"
    },
    "papermill": {
     "duration": 0.021755,
     "end_time": "2024-12-24T17:42:56.634953",
     "exception": false,
     "start_time": "2024-12-24T17:42:56.613198",
     "status": "completed"
    },
    "tags": []
   },
   "outputs": [],
   "source": [
    "original_train = original_train.drop(columns=['PassengerId', 'Name', 'Ticket', 'Cabin'])\n",
    "\n",
    "test = test.drop(columns=['PassengerId', 'Name', 'Ticket', 'Cabin'])"
   ]
  },
  {
   "cell_type": "markdown",
   "id": "260521c1",
   "metadata": {
    "papermill": {
     "duration": 0.007548,
     "end_time": "2024-12-24T17:42:56.650473",
     "exception": false,
     "start_time": "2024-12-24T17:42:56.642925",
     "status": "completed"
    },
    "tags": []
   },
   "source": [
    "**Check Missing Values in Each Column of the Dataset**"
   ]
  },
  {
   "cell_type": "code",
   "execution_count": 8,
   "id": "97c4770b",
   "metadata": {
    "execution": {
     "iopub.execute_input": "2024-12-24T17:42:56.667701Z",
     "iopub.status.busy": "2024-12-24T17:42:56.667297Z",
     "iopub.status.idle": "2024-12-24T17:42:56.676052Z",
     "shell.execute_reply": "2024-12-24T17:42:56.674925Z"
    },
    "papermill": {
     "duration": 0.020236,
     "end_time": "2024-12-24T17:42:56.678516",
     "exception": false,
     "start_time": "2024-12-24T17:42:56.658280",
     "status": "completed"
    },
    "tags": []
   },
   "outputs": [
    {
     "name": "stdout",
     "output_type": "stream",
     "text": [
      "Survived       0\n",
      "Pclass         0\n",
      "Sex            0\n",
      "Age          177\n",
      "SibSp          0\n",
      "Parch          0\n",
      "Fare           0\n",
      "Embarked       2\n",
      "Has_Cabin      0\n",
      "dtype: int64\n",
      "Pclass        0\n",
      "Sex           0\n",
      "Age          86\n",
      "SibSp         0\n",
      "Parch         0\n",
      "Fare          1\n",
      "Embarked      0\n",
      "Has_Cabin     0\n",
      "dtype: int64\n"
     ]
    }
   ],
   "source": [
    "print(original_train.isnull().sum())\n",
    "print(test.isnull().sum())"
   ]
  },
  {
   "cell_type": "markdown",
   "id": "fd2b050e",
   "metadata": {
    "papermill": {
     "duration": 0.007681,
     "end_time": "2024-12-24T17:42:56.694440",
     "exception": false,
     "start_time": "2024-12-24T17:42:56.686759",
     "status": "completed"
    },
    "tags": []
   },
   "source": [
    "## Data Preprocessing\n",
    "We handle missing values, standardize numerical columns, convert categorical data to numeric, and drop irrelevant columns.\n",
    "\n"
   ]
  },
  {
   "cell_type": "code",
   "execution_count": 9,
   "id": "de9bec38",
   "metadata": {
    "execution": {
     "iopub.execute_input": "2024-12-24T17:42:56.712085Z",
     "iopub.status.busy": "2024-12-24T17:42:56.711704Z",
     "iopub.status.idle": "2024-12-24T17:42:56.724294Z",
     "shell.execute_reply": "2024-12-24T17:42:56.723284Z"
    },
    "papermill": {
     "duration": 0.024055,
     "end_time": "2024-12-24T17:42:56.726589",
     "exception": false,
     "start_time": "2024-12-24T17:42:56.702534",
     "status": "completed"
    },
    "tags": []
   },
   "outputs": [],
   "source": [
    "original_train['Age'].fillna(original_train['Age'].median(), inplace=True)\n",
    "test['Age'].fillna(original_train['Age'].median(), inplace=True)\n",
    "\n",
    "original_train['Fare'].fillna(original_train['Fare'].median(), inplace=True)\n",
    "test['Fare'].fillna(original_train['Fare'].median(), inplace=True)\n",
    "\n",
    "original_train['Embarked'].fillna(original_train['Embarked'].mode()[0], inplace=True)\n",
    "test['Embarked'].fillna(original_train['Embarked'].mode()[0], inplace=True)\n",
    "\n"
   ]
  },
  {
   "cell_type": "markdown",
   "id": "cd901a3d",
   "metadata": {
    "papermill": {
     "duration": 0.007983,
     "end_time": "2024-12-24T17:42:56.742652",
     "exception": false,
     "start_time": "2024-12-24T17:42:56.734669",
     "status": "completed"
    },
    "tags": []
   },
   "source": [
    "**Convert categorical columns to numeric values**"
   ]
  },
  {
   "cell_type": "code",
   "execution_count": 10,
   "id": "a42f7303",
   "metadata": {
    "execution": {
     "iopub.execute_input": "2024-12-24T17:42:56.760066Z",
     "iopub.status.busy": "2024-12-24T17:42:56.759691Z",
     "iopub.status.idle": "2024-12-24T17:42:56.769250Z",
     "shell.execute_reply": "2024-12-24T17:42:56.768314Z"
    },
    "papermill": {
     "duration": 0.020551,
     "end_time": "2024-12-24T17:42:56.771252",
     "exception": false,
     "start_time": "2024-12-24T17:42:56.750701",
     "status": "completed"
    },
    "tags": []
   },
   "outputs": [],
   "source": [
    "original_train['Sex'] = original_train['Sex'].map({'male': 0, 'female': 1})\n",
    "test['Sex'] = test['Sex'].map({'male': 0, 'female': 1})\n",
    "\n",
    "embark_mapping = {'C': 0, 'Q': 1, 'S': 2}\n",
    "original_train['Embarked'] = original_train['Embarked'].map(embark_mapping)\n",
    "test['Embarked'] = test['Embarked'].map(embark_mapping)"
   ]
  },
  {
   "cell_type": "markdown",
   "id": "4bc75feb",
   "metadata": {
    "papermill": {
     "duration": 0.007576,
     "end_time": "2024-12-24T17:42:56.786857",
     "exception": false,
     "start_time": "2024-12-24T17:42:56.779281",
     "status": "completed"
    },
    "tags": []
   },
   "source": [
    "**Standardization of numerical data**"
   ]
  },
  {
   "cell_type": "code",
   "execution_count": 11,
   "id": "9702f355",
   "metadata": {
    "execution": {
     "iopub.execute_input": "2024-12-24T17:42:56.804097Z",
     "iopub.status.busy": "2024-12-24T17:42:56.803737Z",
     "iopub.status.idle": "2024-12-24T17:42:56.815606Z",
     "shell.execute_reply": "2024-12-24T17:42:56.814553Z"
    },
    "papermill": {
     "duration": 0.023005,
     "end_time": "2024-12-24T17:42:56.817763",
     "exception": false,
     "start_time": "2024-12-24T17:42:56.794758",
     "status": "completed"
    },
    "tags": []
   },
   "outputs": [],
   "source": [
    "scaler = StandardScaler()\n",
    "\n",
    "original_train[['Age', 'Fare']] = scaler.fit_transform(original_train[['Age', 'Fare']])\n",
    "test[['Age', 'Fare']] = scaler.transform(test[['Age', 'Fare']])"
   ]
  },
  {
   "cell_type": "markdown",
   "id": "d1a620f4",
   "metadata": {
    "papermill": {
     "duration": 0.008785,
     "end_time": "2024-12-24T17:42:56.834647",
     "exception": false,
     "start_time": "2024-12-24T17:42:56.825862",
     "status": "completed"
    },
    "tags": []
   },
   "source": [
    "**Checking for Missing Values in Train and Test Datasets**"
   ]
  },
  {
   "cell_type": "code",
   "execution_count": 12,
   "id": "1d83e918",
   "metadata": {
    "execution": {
     "iopub.execute_input": "2024-12-24T17:42:56.856591Z",
     "iopub.status.busy": "2024-12-24T17:42:56.855969Z",
     "iopub.status.idle": "2024-12-24T17:42:56.866563Z",
     "shell.execute_reply": "2024-12-24T17:42:56.865546Z"
    },
    "papermill": {
     "duration": 0.023304,
     "end_time": "2024-12-24T17:42:56.869737",
     "exception": false,
     "start_time": "2024-12-24T17:42:56.846433",
     "status": "completed"
    },
    "tags": []
   },
   "outputs": [
    {
     "name": "stdout",
     "output_type": "stream",
     "text": [
      "Survived     0\n",
      "Pclass       0\n",
      "Sex          0\n",
      "Age          0\n",
      "SibSp        0\n",
      "Parch        0\n",
      "Fare         0\n",
      "Embarked     0\n",
      "Has_Cabin    0\n",
      "dtype: int64\n",
      "Pclass       0\n",
      "Sex          0\n",
      "Age          0\n",
      "SibSp        0\n",
      "Parch        0\n",
      "Fare         0\n",
      "Embarked     0\n",
      "Has_Cabin    0\n",
      "dtype: int64\n"
     ]
    }
   ],
   "source": [
    "print(original_train.isnull().sum())\n",
    "print(test.isnull().sum())"
   ]
  },
  {
   "cell_type": "markdown",
   "id": "0028a504",
   "metadata": {
    "papermill": {
     "duration": 0.008667,
     "end_time": "2024-12-24T17:42:56.889217",
     "exception": false,
     "start_time": "2024-12-24T17:42:56.880550",
     "status": "completed"
    },
    "tags": []
   },
   "source": [
    "**Splitting the Original Train Data into Temporary Train and Validation Sets**"
   ]
  },
  {
   "cell_type": "code",
   "execution_count": 13,
   "id": "bf04881a",
   "metadata": {
    "execution": {
     "iopub.execute_input": "2024-12-24T17:42:56.911142Z",
     "iopub.status.busy": "2024-12-24T17:42:56.910758Z",
     "iopub.status.idle": "2024-12-24T17:42:56.920018Z",
     "shell.execute_reply": "2024-12-24T17:42:56.918843Z"
    },
    "papermill": {
     "duration": 0.020592,
     "end_time": "2024-12-24T17:42:56.922191",
     "exception": false,
     "start_time": "2024-12-24T17:42:56.901599",
     "status": "completed"
    },
    "tags": []
   },
   "outputs": [
    {
     "name": "stdout",
     "output_type": "stream",
     "text": [
      "Temporary Train Size: (712, 9)\n",
      "Validation Size: (179, 9)\n"
     ]
    }
   ],
   "source": [
    "temporary_train, validation = train_test_split(original_train, test_size=0.2, random_state=42)\n",
    "\n",
    "print(\"Temporary Train Size:\", temporary_train.shape)\n",
    "print(\"Validation Size:\", validation.shape)"
   ]
  },
  {
   "cell_type": "code",
   "execution_count": 14,
   "id": "34009297",
   "metadata": {
    "execution": {
     "iopub.execute_input": "2024-12-24T17:42:56.940863Z",
     "iopub.status.busy": "2024-12-24T17:42:56.939810Z",
     "iopub.status.idle": "2024-12-24T17:42:56.949498Z",
     "shell.execute_reply": "2024-12-24T17:42:56.947923Z"
    },
    "papermill": {
     "duration": 0.021719,
     "end_time": "2024-12-24T17:42:56.952157",
     "exception": false,
     "start_time": "2024-12-24T17:42:56.930438",
     "status": "completed"
    },
    "tags": []
   },
   "outputs": [],
   "source": [
    "label_column = 'Survived'\n",
    "\n",
    "X_temporary_train = temporary_train.drop(columns=[label_column])\n",
    "y_temporary_train = temporary_train[label_column]\n",
    "\n",
    "X_validation = validation.drop(columns=[label_column])\n",
    "y_validation = validation[label_column]\n"
   ]
  },
  {
   "cell_type": "code",
   "execution_count": 15,
   "id": "e7ec784f",
   "metadata": {
    "execution": {
     "iopub.execute_input": "2024-12-24T17:42:56.972638Z",
     "iopub.status.busy": "2024-12-24T17:42:56.972300Z",
     "iopub.status.idle": "2024-12-24T17:42:57.015096Z",
     "shell.execute_reply": "2024-12-24T17:42:57.014027Z"
    },
    "papermill": {
     "duration": 0.056963,
     "end_time": "2024-12-24T17:42:57.018611",
     "exception": false,
     "start_time": "2024-12-24T17:42:56.961648",
     "status": "completed"
    },
    "tags": []
   },
   "outputs": [
    {
     "name": "stdout",
     "output_type": "stream",
     "text": [
      "     Pclass  Sex       Age  SibSp  Parch      Fare  Embarked  Has_Cabin\n",
      "331       1    0  1.240235      0      0 -0.074583         2          1\n",
      "733       2    0 -0.488887      0      0 -0.386671         2          0\n",
      "382       3    0  0.202762      0      0 -0.488854         2          0\n",
      "704       3    0 -0.258337      1      0 -0.490280         2          0\n",
      "813       3    1 -1.795334      4      2 -0.018709         2          0\n",
      "<class 'pandas.core.frame.DataFrame'>\n",
      "Index: 712 entries, 331 to 102\n",
      "Data columns (total 8 columns):\n",
      " #   Column     Non-Null Count  Dtype  \n",
      "---  ------     --------------  -----  \n",
      " 0   Pclass     712 non-null    int64  \n",
      " 1   Sex        712 non-null    int64  \n",
      " 2   Age        712 non-null    float64\n",
      " 3   SibSp      712 non-null    int64  \n",
      " 4   Parch      712 non-null    int64  \n",
      " 5   Fare       712 non-null    float64\n",
      " 6   Embarked   712 non-null    int64  \n",
      " 7   Has_Cabin  712 non-null    int64  \n",
      "dtypes: float64(2), int64(6)\n",
      "memory usage: 50.1 KB\n",
      "None\n",
      "           Pclass         Sex         Age       SibSp       Parch        Fare  \\\n",
      "count  712.000000  712.000000  712.000000  712.000000  712.000000  712.000000   \n",
      "mean     2.330056    0.344101   -0.012100    0.553371    0.379213    0.007693   \n",
      "std      0.824584    0.475408    0.999661    1.176404    0.791669    1.046390   \n",
      "min      1.000000    0.000000   -2.224156    0.000000    0.000000   -0.648422   \n",
      "25%      2.000000    0.000000   -0.565736    0.000000    0.000000   -0.488854   \n",
      "50%      3.000000    0.000000   -0.104637    0.000000    0.000000   -0.357391   \n",
      "75%      3.000000    1.000000    0.433312    1.000000    0.000000   -0.034314   \n",
      "max      3.000000    1.000000    3.891554    8.000000    6.000000    9.667167   \n",
      "\n",
      "         Embarked   Has_Cabin  \n",
      "count  712.000000  712.000000  \n",
      "mean     1.564607    0.223315  \n",
      "std      0.773168    0.416760  \n",
      "min      0.000000    0.000000  \n",
      "25%      1.000000    0.000000  \n",
      "50%      2.000000    0.000000  \n",
      "75%      2.000000    0.000000  \n",
      "max      2.000000    1.000000  \n"
     ]
    }
   ],
   "source": [
    "\n",
    "print(X_temporary_train.head())\n",
    "\n",
    "print(X_temporary_train.info())\n",
    "\n",
    "print(X_temporary_train.describe())"
   ]
  },
  {
   "cell_type": "markdown",
   "id": "b1d255c0",
   "metadata": {
    "papermill": {
     "duration": 0.009689,
     "end_time": "2024-12-24T17:42:57.040475",
     "exception": false,
     "start_time": "2024-12-24T17:42:57.030786",
     "status": "completed"
    },
    "tags": []
   },
   "source": [
    "## Survival Distribution in Temporary Train Set\n",
    "This bar chart shows the distribution of survivors (`Survived = 1`) and non-survivors (`Survived = 0`) in the temporary training dataset.\n"
   ]
  },
  {
   "cell_type": "code",
   "execution_count": 16,
   "id": "f31e498f",
   "metadata": {
    "execution": {
     "iopub.execute_input": "2024-12-24T17:42:57.059333Z",
     "iopub.status.busy": "2024-12-24T17:42:57.058302Z",
     "iopub.status.idle": "2024-12-24T17:42:57.388431Z",
     "shell.execute_reply": "2024-12-24T17:42:57.387276Z"
    },
    "papermill": {
     "duration": 0.341634,
     "end_time": "2024-12-24T17:42:57.390557",
     "exception": false,
     "start_time": "2024-12-24T17:42:57.048923",
     "status": "completed"
    },
    "tags": []
   },
   "outputs": [
    {
     "data": {
      "image/png": "[encoded data removed]",
      "text/plain": [
       "<Figure size 600x600 with 1 Axes>"
      ]
     },
     "metadata": {},
     "output_type": "display_data"
    }
   ],
   "source": [
    "\n",
    "survived_counts = y_temporary_train.value_counts()\n",
    "\n",
    "import matplotlib.pyplot as plt\n",
    "\n",
    "plt.figure(figsize=(6, 6))\n",
    "survived_counts.plot(kind='bar', color=['lightcoral', 'lightgreen'], edgecolor='black')\n",
    "plt.title('Survival Distribution in Temporary Train Set')\n",
    "plt.xlabel('Survived (0 = No, 1 = Yes)')\n",
    "plt.ylabel('Count')\n",
    "plt.xticks([0, 1], ['Did Not Survive', 'Survived'], rotation=0)\n",
    "plt.show()\n"
   ]
  },
  {
   "cell_type": "code",
   "execution_count": 17,
   "id": "7c522385",
   "metadata": {
    "execution": {
     "iopub.execute_input": "2024-12-24T17:42:57.409858Z",
     "iopub.status.busy": "2024-12-24T17:42:57.409194Z",
     "iopub.status.idle": "2024-12-24T17:42:57.517651Z",
     "shell.execute_reply": "2024-12-24T17:42:57.516531Z"
    },
    "papermill": {
     "duration": 0.12068,
     "end_time": "2024-12-24T17:42:57.520048",
     "exception": false,
     "start_time": "2024-12-24T17:42:57.399368",
     "status": "completed"
    },
    "tags": []
   },
   "outputs": [
    {
     "data": {
      "image/png": "[encoded data removed]",
      "text/plain": [
       "<Figure size 600x600 with 1 Axes>"
      ]
     },
     "metadata": {},
     "output_type": "display_data"
    }
   ],
   "source": [
    "\n",
    "plt.figure(figsize=(6, 6))\n",
    "survived_counts.plot(kind='pie', autopct='%1.1f%%', colors=['lightcoral', 'lightgreen'])\n",
    "plt.title('Percentage of Survival in Temporary Train Set')\n",
    "plt.ylabel('')  \n",
    "plt.show()\n"
   ]
  },
  {
   "cell_type": "markdown",
   "id": "2bb422de",
   "metadata": {
    "papermill": {
     "duration": 0.008764,
     "end_time": "2024-12-24T17:42:57.538150",
     "exception": false,
     "start_time": "2024-12-24T17:42:57.529386",
     "status": "completed"
    },
    "tags": []
   },
   "source": [
    "## Model Evaluation\n",
    "Shows accuracy, confusion matrix, and classification report for the validation set.\n"
   ]
  },
  {
   "cell_type": "code",
   "execution_count": 18,
   "id": "1a7ecb50",
   "metadata": {
    "execution": {
     "iopub.execute_input": "2024-12-24T17:42:57.557930Z",
     "iopub.status.busy": "2024-12-24T17:42:57.557538Z",
     "iopub.status.idle": "2024-12-24T17:42:57.820463Z",
     "shell.execute_reply": "2024-12-24T17:42:57.819253Z"
    },
    "papermill": {
     "duration": 0.275339,
     "end_time": "2024-12-24T17:42:57.822599",
     "exception": false,
     "start_time": "2024-12-24T17:42:57.547260",
     "status": "completed"
    },
    "tags": []
   },
   "outputs": [
    {
     "name": "stdout",
     "output_type": "stream",
     "text": [
      "Accuracy on Validation Set: 0.8212290502793296\n"
     ]
    },
    {
     "data": {
      "image/png": "[encoded data removed]",
      "text/plain": [
       "<Figure size 600x400 with 2 Axes>"
      ]
     },
     "metadata": {},
     "output_type": "display_data"
    },
    {
     "name": "stdout",
     "output_type": "stream",
     "text": [
      "\n",
      "Classification Report:\n",
      "              precision    recall  f1-score   support\n",
      "\n",
      "           0       0.83      0.87      0.85       105\n",
      "           1       0.80      0.76      0.78        74\n",
      "\n",
      "    accuracy                           0.82       179\n",
      "   macro avg       0.82      0.81      0.81       179\n",
      "weighted avg       0.82      0.82      0.82       179\n",
      "\n"
     ]
    }
   ],
   "source": [
    "\n",
    "from sklearn.metrics import accuracy_score, confusion_matrix, classification_report\n",
    "import matplotlib.pyplot as plt\n",
    "import seaborn as sns\n",
    "\n",
    "\n",
    "model = LogisticRegression(max_iter=1000, random_state=42)\n",
    "model.fit(X_temporary_train, y_temporary_train)\n",
    "\n",
    "\n",
    "y_validation_pred = model.predict(X_validation)\n",
    "\n",
    "\n",
    "print(\"Accuracy on Validation Set:\", accuracy_score(y_validation, y_validation_pred))\n",
    "\n",
    "\n",
    "conf_matrix = confusion_matrix(y_validation, y_validation_pred)\n",
    "plt.figure(figsize=(6, 4))\n",
    "sns.heatmap(conf_matrix, annot=True, fmt='d', cmap='Blues', xticklabels=['Died', 'Survived'], yticklabels=['Died', 'Survived'])\n",
    "plt.title('Confusion Matrix')\n",
    "plt.ylabel('True Label')\n",
    "plt.xlabel('Predicted Label')\n",
    "plt.show()\n",
    "\n",
    "\n",
    "print(\"\\nClassification Report:\")\n",
    "print(classification_report(y_validation, y_validation_pred))\n"
   ]
  },
  {
   "cell_type": "markdown",
   "id": "58ffcbf8",
   "metadata": {
    "papermill": {
     "duration": 0.009431,
     "end_time": "2024-12-24T17:42:57.842198",
     "exception": false,
     "start_time": "2024-12-24T17:42:57.832767",
     "status": "completed"
    },
    "tags": []
   },
   "source": [
    "## Hyperparameter Tuning\n",
    "In this section, we will optimize the Logistic Regression model by testing different hyperparameters."
   ]
  },
  {
   "cell_type": "code",
   "execution_count": 19,
   "id": "45d1411f",
   "metadata": {
    "execution": {
     "iopub.execute_input": "2024-12-24T17:42:57.864777Z",
     "iopub.status.busy": "2024-12-24T17:42:57.864375Z",
     "iopub.status.idle": "2024-12-24T17:42:58.574532Z",
     "shell.execute_reply": "2024-12-24T17:42:58.573290Z"
    },
    "papermill": {
     "duration": 0.724817,
     "end_time": "2024-12-24T17:42:58.576773",
     "exception": false,
     "start_time": "2024-12-24T17:42:57.851956",
     "status": "completed"
    },
    "tags": []
   },
   "outputs": [
    {
     "name": "stdout",
     "output_type": "stream",
     "text": [
      "Best Parameters: {'C': 0.1, 'penalty': 'l2', 'solver': 'liblinear'}\n",
      "Best Cross-Validation Accuracy: 0.7962966610853935\n"
     ]
    }
   ],
   "source": [
    "from sklearn.model_selection import GridSearchCV\n",
    "param_grid = {\n",
    "    'C': [0.001, 0.01, 0.1, 1, 10, 100],\n",
    "    'solver': ['liblinear', 'lbfgs'],\n",
    "    'penalty': ['l1', 'l2']\n",
    "}\n",
    "\n",
    "grid = GridSearchCV(LogisticRegression(max_iter=1000, random_state=42), param_grid, cv=5, scoring='accuracy')\n",
    "grid.fit(X_temporary_train, y_temporary_train)\n",
    "print(\"Best Parameters:\", grid.best_params_)\n",
    "print(\"Best Cross-Validation Accuracy:\", grid.best_score_)\n"
   ]
  },
  {
   "cell_type": "code",
   "execution_count": 20,
   "id": "c596e749",
   "metadata": {
    "execution": {
     "iopub.execute_input": "2024-12-24T17:42:58.598199Z",
     "iopub.status.busy": "2024-12-24T17:42:58.597453Z",
     "iopub.status.idle": "2024-12-24T17:42:58.609996Z",
     "shell.execute_reply": "2024-12-24T17:42:58.608950Z"
    },
    "papermill": {
     "duration": 0.025571,
     "end_time": "2024-12-24T17:42:58.612203",
     "exception": false,
     "start_time": "2024-12-24T17:42:58.586632",
     "status": "completed"
    },
    "tags": []
   },
   "outputs": [
    {
     "name": "stdout",
     "output_type": "stream",
     "text": [
      "Accuracy on Validation Set with Best Parameters: 0.8100558659217877\n"
     ]
    }
   ],
   "source": [
    "best_model = LogisticRegression(C=0.1, penalty='l2', solver='liblinear', max_iter=1000, random_state=42)\n",
    "best_model.fit(X_temporary_train, y_temporary_train)\n",
    "y_validation_pred = best_model.predict(X_validation)\n",
    "print(\"Accuracy on Validation Set with Best Parameters:\", accuracy_score(y_validation, y_validation_pred))\n"
   ]
  },
  {
   "cell_type": "markdown",
   "id": "24a90f19",
   "metadata": {
    "papermill": {
     "duration": 0.009301,
     "end_time": "2024-12-24T17:42:58.631304",
     "exception": false,
     "start_time": "2024-12-24T17:42:58.622003",
     "status": "completed"
    },
    "tags": []
   },
   "source": [
    "### Evaluating the Best Model\n",
    "The model is retrained using the best parameters obtained from GridSearchCV, and its performance is evaluated on the validation set. Below, we compute the accuracy, visualize the confusion matrix, and plot the Precision-Recall Curve.\n"
   ]
  },
  {
   "cell_type": "code",
   "execution_count": 21,
   "id": "6d226b4a",
   "metadata": {
    "execution": {
     "iopub.execute_input": "2024-12-24T17:42:58.652139Z",
     "iopub.status.busy": "2024-12-24T17:42:58.651713Z",
     "iopub.status.idle": "2024-12-24T17:42:59.036363Z",
     "shell.execute_reply": "2024-12-24T17:42:59.035308Z"
    },
    "papermill": {
     "duration": 0.397572,
     "end_time": "2024-12-24T17:42:59.038572",
     "exception": false,
     "start_time": "2024-12-24T17:42:58.641000",
     "status": "completed"
    },
    "tags": []
   },
   "outputs": [
    {
     "data": {
      "image/png": "[encoded data removed]",
      "text/plain": [
       "<Figure size 640x480 with 2 Axes>"
      ]
     },
     "metadata": {},
     "output_type": "display_data"
    },
    {
     "data": {
      "image/png": "[encoded data removed]",
      "text/plain": [
       "<Figure size 640x480 with 1 Axes>"
      ]
     },
     "metadata": {},
     "output_type": "display_data"
    }
   ],
   "source": [
    "from sklearn.metrics import confusion_matrix, ConfusionMatrixDisplay\n",
    "\n",
    "conf_matrix = confusion_matrix(y_validation, y_validation_pred)\n",
    "ConfusionMatrixDisplay(conf_matrix, display_labels=['Died', 'Survived']).plot(cmap='Blues')\n",
    "plt.title(\"Confusion Matrix for Validation Set (Best Parameters)\")\n",
    "plt.show()\n",
    "\n",
    "\n",
    "from sklearn.metrics import precision_recall_curve, PrecisionRecallDisplay\n",
    "\n",
    "y_probs = best_model.predict_proba(X_validation)[:, 1]  # Get probabilities for the positive class\n",
    "precision, recall, _ = precision_recall_curve(y_validation, y_probs)\n",
    "\n",
    "PrecisionRecallDisplay(precision=precision, recall=recall).plot()\n",
    "plt.title(\"Precision-Recall Curve for Validation Set\")\n",
    "plt.show()\n"
   ]
  },
  {
   "cell_type": "markdown",
   "id": "691729c6",
   "metadata": {
    "papermill": {
     "duration": 0.010254,
     "end_time": "2024-12-24T17:42:59.059764",
     "exception": false,
     "start_time": "2024-12-24T17:42:59.049510",
     "status": "completed"
    },
    "tags": []
   },
   "source": [
    "### Final Thoughts\n",
    "\n",
    "This project extended our work in machine learning, building upon the foundation established in previous tasks and expanding our understanding of key concepts.\n",
    "\n",
    "#### What Worked\n",
    "- The removal of irrelevant and highly correlated features improved the model’s generalization and overall performance.\n",
    "- Logistic Regression delivered consistent and solid results after thoughtful feature engineering and data standardization.\n",
    "- Hyperparameter tuning allowed for optimization, leading to better validation accuracy and a more robust model.\n",
    "\n",
    "#### What Didn’t Work as Well\n",
    "- Despite the model's overall success, the validation set accuracy highlighted potential overfitting, suggesting the need for further refinement.\n",
    "- Limited experimentation with alternative models left opportunities for performance improvement unexplored.\n",
    "\n",
    "#### Conclusion\n",
    "Overall, this project provided valuable insights into machine learning workflows, reinforced our understanding of model evaluation, and strengthened our problem-solving skills. Moving forward, we aim to explore more advanced models and techniques to address the challenges identified and continue advancing our expertise in the field.\n"
   ]
  },
  {
   "cell_type": "markdown",
   "id": "705c2be7",
   "metadata": {
    "execution": {
     "iopub.execute_input": "2024-12-24T14:28:44.284756Z",
     "iopub.status.busy": "2024-12-24T14:28:44.284336Z",
     "iopub.status.idle": "2024-12-24T14:28:44.291884Z",
     "shell.execute_reply": "2024-12-24T14:28:44.290265Z",
     "shell.execute_reply.started": "2024-12-24T14:28:44.284722Z"
    },
    "papermill": {
     "duration": 0.010278,
     "end_time": "2024-12-24T17:42:59.081156",
     "exception": false,
     "start_time": "2024-12-24T17:42:59.070878",
     "status": "completed"
    },
    "tags": []
   },
   "source": [
    "## References\n",
    "- \n",
    "- "
   ]
  }
 ],
 "metadata": {
  "kaggle": {
   "accelerator": "none",
   "dataSources": [
    {
     "datasetId": 6367037,
     "sourceId": 10288220,
     "sourceType": "datasetVersion"
    }
   ],
   "dockerImageVersionId": 30804,
   "isGpuEnabled": false,
   "isInternetEnabled": false,
   "language": "python",
   "sourceType": "notebook"
  },
  "kernelspec": {
   "display_name": "Python 3",
   "language": "python",
   "name": "python3"
  },
  "language_info": {
   "codemirror_mode": {
    "name": "ipython",
    "version": 3
   },
   "file_extension": ".py",
   "mimetype": "text/x-python",
   "name": "python",
   "nbconvert_exporter": "python",
   "pygments_lexer": "ipython3",
   "version": "3.10.14"
  },
  "papermill": {
   "default_parameters": {},
   "duration": 10.462975,
   "end_time": "2024-12-24T17:42:59.813551",
   "environment_variables": {},
   "exception": null,
   "input_path": "__notebook__.ipynb",
   "output_path": "__notebook__.ipynb",
   "parameters": {},
   "start_time": "2024-12-24T17:42:49.350576",
   "version": "2.6.0"
  }
 },
 "nbformat": 4,
 "nbformat_minor": 5
}
